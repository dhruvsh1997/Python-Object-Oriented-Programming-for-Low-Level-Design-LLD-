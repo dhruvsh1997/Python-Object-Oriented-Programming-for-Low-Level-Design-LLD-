{
  "nbformat": 4,
  "nbformat_minor": 0,
  "metadata": {
    "colab": {
      "provenance": []
    },
    "kernelspec": {
      "name": "python3",
      "display_name": "Python 3"
    },
    "language_info": {
      "name": "python"
    }
  },
  "cells": [
    {
      "cell_type": "code",
      "source": [
        "#I need to learn Recurtion in Python before I start DSA using python, now In regression i have little knowledge about it and I can make small basic programms like factorial and febbonecci, but I need to learn it in an advance level so I easily identify where I need to stick with loop in a program or where its better to use recurtion and its better to use recurtion in this place for better time complexity and optimization. so guide me through the concepts I need to know for that and problems I need to solve for identify that level of recurtion prection. first I would Like to perfect my recurtion command on core python problems then advance python problems(including OOPs and decorators among other like SOLID), then I want to handle some problems using recurtion for day to day uses in ML and DL."
      ],
      "metadata": {
        "id": "iX4n9zMwPt9A"
      },
      "execution_count": null,
      "outputs": []
    },
    {
      "cell_type": "code",
      "source": [
        "# 🔁 1. Fundamental Recursion Concepts\n",
        "# These are essential for understanding any recursive code.\n",
        "\n",
        "# Concept\tDescription\n",
        "# Base Case\tCondition to terminate recursion. Prevents infinite calls.\n",
        "# Recursive Case\tThe function calls itself with a smaller/simplified input.\n",
        "# Call Stack\tUnder-the-hood mechanism that stores function calls (LIFO).\n",
        "# Stack Overflow\tHappens if base case is not hit → too many calls on stack.\n",
        "# Function Execution Flow\tUnderstand how control moves during recursive calls.\n",
        "# Multiple Recursions\tOne function making multiple recursive calls (e.g., tree traversal).\n",
        "# Tree of Calls\tVisualize recursion like a tree where each node is a call.\n",
        "\n",
        "# 🧠 2. Memory Management & Call Stack in Recursion\n",
        "# Yes — recursion has significant memory concepts:\n",
        "\n",
        "# Concept\tDescription\n",
        "# Call Stack Frame\tEach recursive call creates a new memory frame with variables.\n",
        "# Memory Complexity\tRecursion uses extra space proportional to depth of recursion.\n",
        "# Tail Recursion\tA recursion where recursive call is the last operation. Optimizable in some languages (not Python).\n",
        "# Recursion Limit\tPython has a max depth (sys.getrecursionlimit()) to avoid infinite recursion.\n",
        "# Memory Optimization\tUse memoization or bottom-up (DP) to reduce memory use.\n",
        "# Garbage Collection\tMemory frames from returned calls are cleaned automatically in Python.\n",
        "\n",
        "# 📌 Python-specific note: Python does not do tail-call optimization, so even tail recursion grows the stack.\n",
        "\n",
        "# 🧩 3. Algorithmic Patterns Built on Recursion\n",
        "# To solve advanced problems, you must recognize these patterns:\n",
        "\n",
        "# Pattern\tExample Problems\n",
        "# Backtracking\tN-Queens, Sudoku, Rat in Maze\n",
        "# Divide & Conquer\tMerge Sort, Quick Sort\n",
        "# DFS (Tree/Graph)\tTraversals, Path finding\n",
        "# Combinatorial Recursion\tSubsets, Permutations, Combinations\n",
        "# Dynamic Programming\tMemoization (Top-down), Tabulation (Bottom-up)\n",
        "# Recursion with State\tPath tracking, visited flags, rollback states\n",
        "\n",
        "# 🛠️ 4. Python-Specific Recursive Techniques\n",
        "# To use recursion well in Python:\n",
        "\n",
        "# Concept\tWhy It Matters\n",
        "# Lambda Recursion\tRecursive anonymous functions, use Y-Combinator if needed.\n",
        "# Decorators for Memoization\tUse @lru_cache or custom memo decorators.\n",
        "# Recursive Classes\tBuild recursive objects like Trees, Folders.\n",
        "# Recursive Generators\tUse yield with recursion for memory-efficient tree traversal.\n",
        "# Recursive Decorators\tDecorators that call recursively decorated functions.\n",
        "# Handling sys.setrecursionlimit()\tKnow how to increase safely during deep recursions.\n",
        "\n",
        "# 📐 5. Design-Level Concepts for OOP/Advanced Recursion\n",
        "# Concept\tUse\n",
        "# Recursion in Class Methods\tUsed in custom Trees, ASTs, recursive data models\n",
        "# Recursive Object Construction\tLinked list, Tree, Graph\n",
        "# Recursion with SOLID/OOP\tApply single responsibility, separation of concerns, etc., in recursive logic\n",
        "# Decorator Pattern\tBuild recursive wrappers for logging, caching, etc.\n",
        "# Recursion in Iterators\tImplement __iter__ recursively to traverse nested structures\n",
        "\n",
        "# 🤖 6. Recursion in ML, DL & Real-World Automation\n",
        "# Concept\tApplication\n",
        "# Recursive Tree Algorithms\tBuilding Decision Trees, Expression Trees\n",
        "# Recursive NN\tParsing Tree-based inputs (e.g., NLP tree parsing)\n",
        "# Recursive Data Cleaning\tFlattening nested dicts/lists, normalizing JSON/XML\n",
        "# Recursive Regex or Tokenizer\tFor nested pattern matching\n",
        "# Recursive Graph Traversal\tGraph-based reasoning (e.g., dependencies, paths)\n",
        "# Recursive Loop Unrolling in NumPy\tBreaking large array operations recursively\n",
        "\n",
        "# 🧠 Key Mental Models for Recursion\n",
        "# Model\tUse\n",
        "# Recursion Tree\tTrace execution and memory cost visually\n",
        "# Stack Trace Model\tUnderstand which function returns when\n",
        "# State Restoration\tEspecially in backtracking, undoing decisions\n",
        "# Memoization Table\tFor overlapping subproblem optimization"
      ],
      "metadata": {
        "id": "0Vky_IYoP9Kw"
      },
      "execution_count": null,
      "outputs": []
    },
    {
      "cell_type": "markdown",
      "source": [
        "# OOPs in Python for Low-Level Design (LLD)\n",
        "Object-Oriented Programming (OOP) is a programming paradigm that organizes code around \"objects\" rather than functions. In Python, OOP allows you to create classes (blueprints) and objects (instances) to model real-world entities, making code modular, reusable, and maintainable.\n",
        "\n",
        "## Key Terminology and Why Use OOP in Python?\n",
        "1. Modularity: Break code into manageable pieces (classes).\n",
        "2. Reusability: Reuse classes across projects.\n",
        "3. Maintainability: Easier to update and debug.\n",
        "4. Scalability: Ideal for large systems like libraries or frameworks.\n",
        "\n",
        "A. Class: Blueprint for objects, defining attributes (data) and methods (functions).<br>\n",
        "B. Object: Instance of a class with its own state and behavior.<br>\n",
        "C. Attribute: Variables belonging to a class or object.<br>\n",
        "D. Method: Functions defined inside a class.<br>"
      ],
      "metadata": {
        "id": "0TxWUfkaqObk"
      }
    },
    {
      "cell_type": "markdown",
      "source": [
        "## ✅ **OOP Concepts Checklist**\n",
        "- [x] Encapsulation\n",
        "- [x] Abstraction\n",
        "- [x] Inheritance (Single, Multi-Level, Multiple)\n",
        "- [x] Polymorphism (Method Overriding, Operator Overloading)\n",
        "- [x] Special Methods (__init__, __del__, etc.)\n",
        "- [x] `@classmethod`, `@staticmethod`, `self`, `super()`\n",
        "- [x] SOLID Principles in action"
      ],
      "metadata": {
        "id": "oSKxpoMNq7Vi"
      }
    },
    {
      "cell_type": "markdown",
      "source": [
        "## 1. Encapsulation — 🔐 Data Hiding\n",
        "Encapsulation is about bundling data (attributes) and behavior (methods) into a class and restricting direct access.\n",
        "\n",
        "Concept: Encapsulation bundles data and methods into a single unit (class) while restricting access to internal details. In Python, we use naming conventions like _ (protected) and __ (private) to indicate access levels.\n",
        "\n",
        "Why It’s Useful: Protects data from unintended changes and ensures controlled access.\n",
        "\n",
        "In LLD: Encapsulation is used to hide internal logic of components, making systems secure and modular.\n",
        "\n"
      ],
      "metadata": {
        "id": "E_BRPtNrrAQV"
      }
    },
    {
      "cell_type": "code",
      "execution_count": 7,
      "metadata": {
        "colab": {
          "base_uri": "https://localhost:8080/"
        },
        "id": "aLC2xFiXqFmF",
        "outputId": "aeaa5a66-cab8-4f68-bb33-a672a5bcc1ab"
      },
      "outputs": [
        {
          "output_type": "stream",
          "name": "stdout",
          "text": [
            "1000\n",
            "500\n",
            "500\n",
            "500\n"
          ]
        }
      ],
      "source": [
        "class BankAccount:\n",
        "    def __init__(self, owner, balance=0):\n",
        "        self.owner = owner\n",
        "        self.__balance = balance  # private variable\n",
        "\n",
        "    def deposit(self, amount):\n",
        "        if amount > 0:\n",
        "            self.__balance += amount\n",
        "\n",
        "    def withdraw(self, amount):\n",
        "        if 0 < amount <= self.__balance:\n",
        "            self.__balance -= amount\n",
        "            return amount\n",
        "        return \"Insufficient Funds\"\n",
        "\n",
        "    def get_balance(self):\n",
        "        return self.__balance\n",
        "\n",
        "# Usage\n",
        "acc = BankAccount(\"Alice\", 1000)\n",
        "print(acc.get_balance())  # 1000\n",
        "print(acc.withdraw(500))  # 500\n",
        "print(acc.get_balance())  # 500\n",
        "# print(acc.__balance)  # AttributeError (Encapsulation)\n",
        "print(acc._BankAccount__balance)  # Calling Through Name Mangling (Encapsulation)"
      ]
    },
    {
      "cell_type": "markdown",
      "source": [
        "## 2. Abstraction — 🔬 Hiding Implementation, Showing Functionality\n",
        "Abstraction means showing only the essential details.\n",
        "Concept: Abstraction hides complex implementation details and exposes only essential features. In Python, abstract classes (using the abc module) define interfaces that subclasses must implement.\n",
        "\n",
        "Why It’s Useful: Simplifies code by focusing on what an object does, not how it does it.\n",
        "\n",
        "In LLD: Abstraction defines clear interfaces for system components, ensuring flexibility and maintainability."
      ],
      "metadata": {
        "id": "PITAiJ3urRlu"
      }
    },
    {
      "cell_type": "code",
      "source": [
        "from abc import ABC, abstractmethod\n",
        "\n",
        "class PaymentMethod(ABC):\n",
        "    @abstractmethod\n",
        "    def pay(self, amount):\n",
        "        pass\n",
        "\n",
        "class CreditCard(PaymentMethod):\n",
        "    def __init__(self):\n",
        "        self.bog=6783\n",
        "    def pay(self, amount):\n",
        "        print(f\"Paid {amount} using Credit Card - {self.bog}\")\n",
        "\n",
        "class PayPal(PaymentMethod):\n",
        "    def pay(self, amount):\n",
        "        print(f\"Paid {amount} using PayPal\")\n",
        "\n",
        "# Usage\n",
        "p1 = CreditCard()\n",
        "p1.pay(100)\n",
        "p2 = PayPal()\n",
        "p2.pay(250)"
      ],
      "metadata": {
        "colab": {
          "base_uri": "https://localhost:8080/"
        },
        "id": "qNT6t6KKrFkb",
        "outputId": "f743b178-7e5b-4e23-8e7c-15d1124eb998"
      },
      "execution_count": 10,
      "outputs": [
        {
          "output_type": "stream",
          "name": "stdout",
          "text": [
            "Paid 100 using Credit Card - 6783\n",
            "Paid 250 using PayPal\n"
          ]
        }
      ]
    },
    {
      "cell_type": "markdown",
      "source": [
        "## 3. Inheritance — 📝 Code Reuse\n",
        "Concept: Inheritance allows a subclass to inherit attributes and methods from a superclass. Python supports single, multiple, multilevel, and hierarchical inheritance.\n",
        "\n",
        "Why It’s Useful: Promotes code reuse and establishes \"is-a\" relationships (e.g., a Car is a Vehicle).\n",
        "\n",
        "In LLD: Used to model hierarchical relationships between components, reducing code duplication.\n",
        "\n",
        "### Types:\n",
        "- **Single**\n",
        "- **Multilevel**\n",
        "- **Multiple**"
      ],
      "metadata": {
        "id": "v7eP2-84rYGF"
      }
    },
    {
      "cell_type": "code",
      "source": [
        "# Single Inheritance\n",
        "class Employee:\n",
        "    def __init__(self, name):\n",
        "        self.name = name\n",
        "\n",
        "    def work(self):\n",
        "        print(f\"{self.name} is working\")\n",
        "\n",
        "class Developer(Employee):\n",
        "    def work(self):\n",
        "        print(f\"{self.name} is coding\")\n",
        "\n",
        "vr = Developer(\"King Bob\")\n",
        "vr.work()"
      ],
      "metadata": {
        "colab": {
          "base_uri": "https://localhost:8080/"
        },
        "id": "D1Ex7oG9rUZf",
        "outputId": "88440d9d-35a7-4344-9031-a7283f7c531e"
      },
      "execution_count": null,
      "outputs": [
        {
          "output_type": "stream",
          "name": "stdout",
          "text": [
            "King Bob is coding\n"
          ]
        }
      ]
    },
    {
      "cell_type": "code",
      "source": [
        "class Employee:\n",
        "    def __init__(self, name):\n",
        "        self.name = name\n",
        "\n",
        "    def work(self):\n",
        "        print(f\"{self.name} is working\")\n",
        "\n",
        "class Developer(Employee):\n",
        "    def work(self):\n",
        "        print(f\"{self.name} is coding\")\n",
        "\n",
        "# Multilevel Inheritance\n",
        "class TechLead(Developer):\n",
        "    def lead_team(self):\n",
        "        print(f\"{self.name} is leading the dev team\")\n",
        "\n",
        "# Usage\n",
        "emp = TechLead(\"Alice\")\n",
        "emp.work()\n",
        "emp.lead_team()"
      ],
      "metadata": {
        "colab": {
          "base_uri": "https://localhost:8080/"
        },
        "id": "gVGyB1merkzv",
        "outputId": "b21530fb-f952-4c49-c8ce-56ac3a8f14fe"
      },
      "execution_count": null,
      "outputs": [
        {
          "output_type": "stream",
          "name": "stdout",
          "text": [
            "Alice is coding\n",
            "Alice is leading the dev team\n"
          ]
        }
      ]
    },
    {
      "cell_type": "code",
      "source": [
        "class Employee:\n",
        "    def __init__(self, name):\n",
        "        self.name = name\n",
        "\n",
        "    def work(self):\n",
        "        print(f\"{self.name} is working\")\n",
        "\n",
        "class Developer(Employee):\n",
        "    def work(self):\n",
        "        print(f\"{self.name} is coding\")\n",
        "\n",
        "class TechLead(Developer):\n",
        "    def lead_team(self):\n",
        "        print(f\"{self.name} is leading the dev team\")\n",
        "\n",
        "# Multiple Inheritance\n",
        "class Manager:\n",
        "    def manage(self):\n",
        "        print(\"Managing resources\")\n",
        "\n",
        "class DevManager(Developer, Manager):\n",
        "    pass\n",
        "\n",
        "dm = DevManager(\"Bob\")\n",
        "dm.work()\n",
        "dm.manage()"
      ],
      "metadata": {
        "colab": {
          "base_uri": "https://localhost:8080/"
        },
        "id": "K7YZV6iOroFk",
        "outputId": "8bffc7d0-f377-4715-afc4-d44b3ab4bdc6"
      },
      "execution_count": null,
      "outputs": [
        {
          "output_type": "stream",
          "name": "stdout",
          "text": [
            "Bob is coding\n",
            "Managing resources\n"
          ]
        }
      ]
    },
    {
      "cell_type": "markdown",
      "source": [
        "## 4. Polymorphism — 🤯 Same Interface, Different Implementation\n",
        "Concept: Polymorphism allows objects of different classes to be treated as instances of a common superclass, often through method overriding or operator overloading.\n",
        "\n",
        "Why It’s Useful: Enables flexible and interchangeable components.\n",
        "\n",
        "In LLD: Used to design systems where components can be swapped without changing the code."
      ],
      "metadata": {
        "id": "bC6tY9cVr-W2"
      }
    },
    {
      "cell_type": "markdown",
      "source": [
        "### a. Method Overriding"
      ],
      "metadata": {
        "id": "ZB1OPBTHsFCW"
      }
    },
    {
      "cell_type": "code",
      "source": [
        "class Bird:\n",
        "    def speak(self):\n",
        "        print(\"Chirp\")\n",
        "\n",
        "class Parrot(Bird):\n",
        "    def speak(self):\n",
        "        print(\"I can talk!\")\n",
        "\n",
        "# Usage\n",
        "b = Bird()\n",
        "b.speak()\n",
        "p = Parrot()\n",
        "p.speak()"
      ],
      "metadata": {
        "colab": {
          "base_uri": "https://localhost:8080/"
        },
        "id": "AKDvp3vTr8nj",
        "outputId": "fda125af-9d02-464c-905e-686663adc356"
      },
      "execution_count": null,
      "outputs": [
        {
          "output_type": "stream",
          "name": "stdout",
          "text": [
            "Chirp\n",
            "I can talk!\n"
          ]
        }
      ]
    },
    {
      "cell_type": "markdown",
      "source": [
        "### b. Operator Overloading"
      ],
      "metadata": {
        "id": "gIEf4CC7sI8w"
      }
    },
    {
      "cell_type": "code",
      "source": [
        "class Vector:\n",
        "    def __init__(self, x, y):\n",
        "        self.x = x\n",
        "        self.y = y\n",
        "\n",
        "    def __add__(self, other):\n",
        "        return Vector(self.x + other.x, self.y + other.y)\n",
        "\n",
        "    def __str__(self):\n",
        "        return f\"Vector({self.x}, {self.y})\"\n",
        "\n",
        "# Usage\n",
        "v1 = Vector(2, 4)\n",
        "v2 = Vector(1, 3)\n",
        "print(v1 + v2)  # Vector(3, 7)"
      ],
      "metadata": {
        "colab": {
          "base_uri": "https://localhost:8080/"
        },
        "id": "27msS_1TsJYD",
        "outputId": "f9c49e9f-cb28-44eb-83f5-4689bcb20ab8"
      },
      "execution_count": null,
      "outputs": [
        {
          "output_type": "stream",
          "name": "stdout",
          "text": [
            "Vector(3, 7)\n"
          ]
        }
      ]
    },
    {
      "cell_type": "markdown",
      "source": [
        "## 5. Special Methods: `__init__`, `__del__`, `__str__`"
      ],
      "metadata": {
        "id": "O_xGfLs5sPrL"
      }
    },
    {
      "cell_type": "code",
      "source": [
        "class Person:\n",
        "    def __init__(self, name):\n",
        "        self.name = name\n",
        "        print(f\"Person {self.name} created\")\n",
        "\n",
        "    def __del__(self):\n",
        "        print(f\"Person {self.name} deleted\")\n",
        "\n",
        "    def __str__(self):\n",
        "        return f\"Person: {self.name}\"\n",
        "\n",
        "p = Person(\"Charlie\")\n",
        "print(str(p))\n",
        "del p"
      ],
      "metadata": {
        "colab": {
          "base_uri": "https://localhost:8080/"
        },
        "id": "iOxpT4xSsLAw",
        "outputId": "53f29d7c-c2d9-4922-ae81-96f2f44b03bb"
      },
      "execution_count": null,
      "outputs": [
        {
          "output_type": "stream",
          "name": "stdout",
          "text": [
            "Person Charlie created\n",
            "Person: Charlie\n",
            "Person Charlie deleted\n"
          ]
        }
      ]
    },
    {
      "cell_type": "markdown",
      "source": [
        "## 6. Class Method, Static Method, `self`, `super()`"
      ],
      "metadata": {
        "id": "S-XzFZWvsUX7"
      }
    },
    {
      "cell_type": "code",
      "source": [
        "class Logger:\n",
        "    logs = []\n",
        "\n",
        "    def __init__(self, message):\n",
        "        self.message = message\n",
        "        Logger.logs.append(message)\n",
        "\n",
        "    @classmethod\n",
        "    def get_logs(cls):\n",
        "        return cls.logs\n",
        "\n",
        "    @staticmethod\n",
        "    def greet():\n",
        "        print(\"Hello, this is Logger\")\n",
        "\n",
        "class AdvancedLogger(Logger):\n",
        "    def __init__(self, message):\n",
        "        super().__init__(message)\n",
        "        print(\"Advanced Logger: \", message)\n",
        "\n",
        "Logger.greet()\n",
        "a = AdvancedLogger(\"Warning\")\n",
        "print(Logger.get_logs())"
      ],
      "metadata": {
        "colab": {
          "base_uri": "https://localhost:8080/"
        },
        "id": "KGy_f-yNsRXD",
        "outputId": "6d8620da-1bf5-4517-b052-29423e56cbca"
      },
      "execution_count": null,
      "outputs": [
        {
          "output_type": "stream",
          "name": "stdout",
          "text": [
            "Hello, this is Logger\n",
            "Advanced Logger:  Warning\n",
            "['Warning']\n"
          ]
        }
      ]
    },
    {
      "cell_type": "markdown",
      "source": [
        "## 7. SOLID Principles\n",
        "**S**: Single Responsibility Principle  \n",
        "**O**: Open/Closed Principle  \n",
        "**L**: Liskov Substitution Principle  \n",
        "**I**: Interface Segregation Principle  \n",
        "**D**: Dependency Inversion Principle  \n",
        "\n",
        "### Example: Using SRP + DIP + OCP"
      ],
      "metadata": {
        "id": "BrDWyhn0soQe"
      }
    },
    {
      "cell_type": "code",
      "source": [
        "class EmailService:\n",
        "    def send_email(self, to, content):\n",
        "        print(f\"Sending email to {to} with content: {content}\")\n",
        "\n",
        "class Notification:\n",
        "    def __init__(self, sender):\n",
        "        self.sender = sender\n",
        "\n",
        "    def notify(self, to, msg):\n",
        "        self.sender.send_email(to, msg)\n",
        "\n",
        "# Usage\n",
        "service = EmailService()\n",
        "note = Notification(service)\n",
        "note.notify(\"user@example.com\", \"Welcome!\")"
      ],
      "metadata": {
        "colab": {
          "base_uri": "https://localhost:8080/"
        },
        "id": "Cgm4ffYfsWNd",
        "outputId": "4f308233-2a22-4157-f242-9588344c28ad"
      },
      "execution_count": null,
      "outputs": [
        {
          "output_type": "stream",
          "name": "stdout",
          "text": [
            "Sending email to user@example.com with content: Welcome!\n"
          ]
        }
      ]
    },
    {
      "cell_type": "markdown",
      "source": [
        "###1. Single Responsibility Principle (SRP)\n",
        "\n",
        "Concept: A class should have only one reason to change, meaning it should have a single responsibility.\n",
        "\n",
        "Why It’s Useful: Keeps classes focused, making them easier to maintain.\n",
        "\n",
        "In LLD: Ensures each class handles one aspect of the system, improving modularity."
      ],
      "metadata": {
        "id": "OMQobQUNtm4-"
      }
    },
    {
      "cell_type": "code",
      "source": [
        "class BankAccount:\n",
        "    def __init__(self, balance=0):\n",
        "        self._balance = balance\n",
        "\n",
        "    def get_balance(self):\n",
        "        return self._balance\n",
        "\n",
        "class Transaction:\n",
        "    @staticmethod\n",
        "    def deposit(account, amount):\n",
        "        if amount > 0:\n",
        "            account._balance += amount\n",
        "            return True\n",
        "        return False\n",
        "\n",
        "    @staticmethod\n",
        "    def withdraw(account, amount):\n",
        "        if 0 < amount <= account._balance:\n",
        "            account._balance -= amount\n",
        "            return True\n",
        "        return False\n",
        "\n",
        "# Usage\n",
        "account = BankAccount(100)\n",
        "Transaction.deposit(account, 50)\n",
        "print(account.get_balance())  # Output: 150\n",
        "print(Transaction.withdraw(account, 30))  # Output: True\n",
        "print(account.get_balance())  # Output: 120"
      ],
      "metadata": {
        "colab": {
          "base_uri": "https://localhost:8080/"
        },
        "id": "2Mt3Y0PztooR",
        "outputId": "9b728411-8ac5-4647-eff6-ee3751bb943d"
      },
      "execution_count": null,
      "outputs": [
        {
          "output_type": "stream",
          "name": "stdout",
          "text": [
            "150\n",
            "True\n",
            "120\n"
          ]
        }
      ]
    },
    {
      "cell_type": "markdown",
      "source": [
        "###2. Open-Closed Principle (OCP)\n",
        "\n",
        "Concept: Classes should be open for extension but closed for modification.\n",
        "\n",
        "Why It’s Useful: Allows adding new functionality without altering existing code.\n",
        "\n",
        "In LLD: Enables scalable designs where new components can be added easily."
      ],
      "metadata": {
        "id": "DRrjYMd_txY7"
      }
    },
    {
      "cell_type": "code",
      "source": [
        "from abc import ABC, abstractmethod\n",
        "\n",
        "class Shape(ABC):\n",
        "    @abstractmethod\n",
        "    def area(self):\n",
        "        pass\n",
        "\n",
        "class Circle(Shape):\n",
        "    def __init__(self, radius):\n",
        "        self.radius = radius\n",
        "\n",
        "    def area(self):\n",
        "        return 3.14 * self.radius ** 2\n",
        "\n",
        "class Rectangle(Shape):\n",
        "    def __init__(self, width, height):\n",
        "        self.width = width\n",
        "        self.height = height\n",
        "\n",
        "    def area(self):\n",
        "        return self.width * self.height\n",
        "\n",
        "class ShapeCalculator:\n",
        "    @staticmethod\n",
        "    def total_area(shapes):\n",
        "        return sum(shape.area() for shape in shapes)\n",
        "\n",
        "# Usage\n",
        "shapes = [Circle(5), Rectangle(4, 5)]\n",
        "total = ShapeCalculator.total_area(shapes)\n",
        "print(total)  # Output: 98.5"
      ],
      "metadata": {
        "colab": {
          "base_uri": "https://localhost:8080/"
        },
        "id": "y4N7fNGatokq",
        "outputId": "b7921841-fc1d-4ee0-ef75-4aa60d0f3b22"
      },
      "execution_count": null,
      "outputs": [
        {
          "output_type": "stream",
          "name": "stdout",
          "text": [
            "98.5\n"
          ]
        }
      ]
    },
    {
      "cell_type": "markdown",
      "source": [
        "###3. Liskov Substitution Principle (LSP)\n",
        "\n",
        "Concept: Subclasses must be substitutable for their base classes without altering behavior.\n",
        "\n",
        "Why It’s Useful: Ensures consistency in inheritance hierarchies.\n",
        "\n",
        "In LLD: Guarantees that components can be swapped without breaking the system."
      ],
      "metadata": {
        "id": "5BFSqnd6t2yO"
      }
    },
    {
      "cell_type": "code",
      "source": [
        "class Vehicle:\n",
        "    def __init__(self, make, model):\n",
        "        self.make = make\n",
        "        self.model = model\n",
        "\n",
        "    def start(self):\n",
        "        print(f\"{self.make} {self.model} is starting.\")\n",
        "\n",
        "class Car(Vehicle):\n",
        "    def __init__(self, make, model, year):\n",
        "        super().__init__(make, model)  # Call superclass constructor\n",
        "        self.year = year\n",
        "\n",
        "    def drive(self):\n",
        "        print(f\"Driving the {self.year} {self.make} {self.model}.\")\n",
        "\n",
        "class ElectricCar(Car):\n",
        "    def start(self):  # Override start method\n",
        "        print(f\"{self.make} {self.model} is starting silently.\")\n",
        "\n",
        "def test_car(car):\n",
        "    car.start()\n",
        "    car.drive()\n",
        "\n",
        "# Usage\n",
        "car = Car(\"Toyota\", \"Camry\", 2022)\n",
        "test_car(car)  # Output: Toyota Camry is starting. Driving the 2022 Toyota Camry.\n",
        "\n",
        "electric_car = ElectricCar(\"Tesla\", \"Model S\", 2023)\n",
        "test_car(electric_car)  # Output: Tesla Model S is starting silently. Driving the 2023 Tesla Model S."
      ],
      "metadata": {
        "colab": {
          "base_uri": "https://localhost:8080/"
        },
        "id": "cNh2qdmVtohf",
        "outputId": "c5da86e4-5bf2-442b-fe7c-fa13ceff3586"
      },
      "execution_count": null,
      "outputs": [
        {
          "output_type": "stream",
          "name": "stdout",
          "text": [
            "Toyota Camry is starting.\n",
            "Driving the 2022 Toyota Camry.\n",
            "Tesla Model S is starting silently.\n",
            "Driving the 2023 Tesla Model S.\n"
          ]
        }
      ]
    },
    {
      "cell_type": "markdown",
      "source": [
        "###4. Interface Segregation Principle (ISP)\n",
        "\n",
        "Concept: Classes should not be forced to implement interfaces they don’t use.\n",
        "\n",
        "Why It’s Useful: Reduces unnecessary dependencies, making code cleaner.\n",
        "\n",
        "In LLD: Ensures components only implement relevant interfaces."
      ],
      "metadata": {
        "id": "PcZS26cLuXFo"
      }
    },
    {
      "cell_type": "code",
      "source": [
        "from abc import ABC, abstractmethod\n",
        "\n",
        "class AreaCalculable(ABC):\n",
        "    @abstractmethod\n",
        "    def area(self):\n",
        "        pass\n",
        "\n",
        "class PerimeterCalculable(ABC):\n",
        "    @abstractmethod\n",
        "    def perimeter(self):\n",
        "        pass\n",
        "\n",
        "class Circle(AreaCalculable, PerimeterCalculable):\n",
        "    def __init__(self, radius):\n",
        "        self.radius = radius\n",
        "\n",
        "    def area(self):\n",
        "        return 3.14 * self.radius ** 2\n",
        "\n",
        "    def perimeter(self):\n",
        "        return 2 * 3.14 * self.radius\n",
        "\n",
        "# Usage\n",
        "circle = Circle(5)\n",
        "print(circle.area())  # Output: 78.5\n",
        "print(circle.perimeter())  # Output: 31.4"
      ],
      "metadata": {
        "colab": {
          "base_uri": "https://localhost:8080/"
        },
        "id": "sOYlZjcPtoev",
        "outputId": "a26a8dd6-700e-4062-d348-c7766ba55e9f"
      },
      "execution_count": null,
      "outputs": [
        {
          "output_type": "stream",
          "name": "stdout",
          "text": [
            "78.5\n",
            "31.400000000000002\n"
          ]
        }
      ]
    },
    {
      "cell_type": "markdown",
      "source": [
        "###5. Dependency Inversion Principle (DIP)\n",
        "\n",
        "Concept: High-level modules should depend on abstractions, not concrete implementations.\n",
        "\n",
        "Why It’s Useful: Decouples modules, making systems more flexible.\n",
        "\n",
        "In LLD: Allows swapping implementations without changing high-level logic."
      ],
      "metadata": {
        "id": "YhLUR9RPua4n"
      }
    },
    {
      "cell_type": "code",
      "source": [],
      "metadata": {
        "id": "jACePfaOtobg"
      },
      "execution_count": null,
      "outputs": []
    },
    {
      "cell_type": "markdown",
      "source": [
        "#Best Practices for OOP in Python\n",
        "###To write professional and maintainable OOP code, follow these practices (Towards Data Science):\n",
        "1. Meaningful Names: Use descriptive names (e.g., BankAccount instead of BA).\n",
        "2. PEP 8 Compliance: Follow Python’s style guide (PEP 8).\n",
        "3. Properties for Encapsulation: Use @property for controlled attribute access.\n",
        "4. Abstract Base Classes: Use abc module for interfaces.\n",
        "5. Composition Over Inheritance: Prefer composition for flexibility.\n",
        "6. Exception Handling: Use try-except blocks for robustness.\n",
        "7. Documentation: Add docstrings for clarity.\n",
        "8. Type Hints: Use type hints for better code readability."
      ],
      "metadata": {
        "id": "OxIXscofuhvb"
      }
    },
    {
      "cell_type": "code",
      "source": [
        "class Employee:\n",
        "    def __init__(self, name, salary):\n",
        "        self._name = name\n",
        "        self._salary = salary\n",
        "\n",
        "    @property\n",
        "    def salary(self):\n",
        "        return self._salary\n",
        "\n",
        "    @salary.setter\n",
        "    def salary(self, value):\n",
        "        if value >= 0:\n",
        "            self._salary = value\n",
        "        else:\n",
        "            raise ValueError(\"Salary cannot be negative\")\n",
        "\n",
        "# Usage\n",
        "emp = Employee(\"Alice\", 50000)\n",
        "print(emp.salary)  # Output: 50000\n",
        "emp.salary = 60000\n",
        "print(emp.salary)  # Output: 60000"
      ],
      "metadata": {
        "colab": {
          "base_uri": "https://localhost:8080/"
        },
        "id": "0RQ4kWEvtoE-",
        "outputId": "f614af7f-99b5-435f-dd17-d2641698bd87"
      },
      "execution_count": null,
      "outputs": [
        {
          "output_type": "stream",
          "name": "stdout",
          "text": [
            "50000\n",
            "60000\n"
          ]
        }
      ]
    },
    {
      "cell_type": "markdown",
      "source": [
        "###OOPs in Low Level Design (LLD)\n",
        "\n",
        "In LLD, OOP is used to design the internal structure of systems, defining classes, their relationships, and interactions. According to GeeksforGeeks, LLD translates real-world problems into object-oriented solutions using OOP and SOLID principles.\n",
        "\n",
        "###Design Patterns in LLD\n",
        "\n",
        "Design patterns are reusable solutions to common problems. Examples include:\n",
        "\n",
        "\n",
        "\n",
        "\n",
        "\n",
        "Singleton: Ensures one instance of a class.\n",
        "\n",
        "\n",
        "\n",
        "Factory: Creates objects without specifying the exact class.\n",
        "\n",
        "\n",
        "\n",
        "Observer: Notifies dependent objects of state changes."
      ],
      "metadata": {
        "id": "idTlEjX8vA31"
      }
    },
    {
      "cell_type": "code",
      "source": [
        "class Singleton:\n",
        "    _instance = None\n",
        "\n",
        "    def __new__(cls):\n",
        "        if cls._instance is None:\n",
        "            cls._instance = super().__new__(cls)\n",
        "        return cls._instance\n",
        "\n",
        "# Usage\n",
        "s1 = Singleton()\n",
        "s2 = Singleton()\n",
        "print(s1 is s2)  # Output: True"
      ],
      "metadata": {
        "colab": {
          "base_uri": "https://localhost:8080/"
        },
        "id": "bNvqHrDNvASP",
        "outputId": "36c028cc-7a27-4852-d703-5e67f8d8a5b4"
      },
      "execution_count": null,
      "outputs": [
        {
          "output_type": "stream",
          "name": "stdout",
          "text": [
            "True\n"
          ]
        }
      ]
    },
    {
      "cell_type": "markdown",
      "source": [
        "#UML Diagrams in LLD\n",
        "\n",
        "UML diagrams visualize system design:\n",
        "\n",
        "\n",
        "\n",
        "\n",
        "\n",
        "Class Diagrams: Show classes, attributes, methods, and relationships.\n",
        "\n",
        "\n",
        "\n",
        "Sequence Diagrams: Illustrate object interactions over time."
      ],
      "metadata": {
        "id": "NpNZa6JNvMOn"
      }
    },
    {
      "cell_type": "markdown",
      "source": [
        "[Vehicle]\n",
        "- make\n",
        "- model\n",
        "+ start()\n",
        "\n",
        "    ^\n",
        "    |\n",
        "[Car]\n",
        "- year\n",
        "+ drive()"
      ],
      "metadata": {
        "id": "rxLiAUu8vPKt"
      }
    },
    {
      "cell_type": "code",
      "source": [
        "import time\n",
        "from functools import wraps\n",
        "\n",
        "class Timer:\n",
        "    def __init__(self, func):\n",
        "        self.func = func\n",
        "\n",
        "    def __call__(self, *args, **kwargs):\n",
        "        start = time.time()\n",
        "        result = self.func(*args, **kwargs)\n",
        "        print(f\"{self.func.__name__} took {time.time() - start} seconds\")\n",
        "        return result\n",
        "\n",
        "@Timer\n",
        "def slow_function():\n",
        "    time.sleep(2)\n",
        "    print(\"Slow function executed.\")\n",
        "\n",
        "# Usage\n",
        "slow_function()  # Output: Slow function executed. slow_function took ~2.0 seconds"
      ],
      "metadata": {
        "colab": {
          "base_uri": "https://localhost:8080/"
        },
        "id": "x9D8kXuavSLZ",
        "outputId": "16395565-a312-4944-ee6c-fe875b317b99"
      },
      "execution_count": null,
      "outputs": [
        {
          "output_type": "stream",
          "name": "stdout",
          "text": [
            "Slow function executed.\n",
            "slow_function took 2.000371217727661 seconds\n"
          ]
        }
      ]
    },
    {
      "cell_type": "markdown",
      "source": [
        "## Bonus: OOP in Decorator Projects & Pytest\n",
        "\n",
        "### Decorator Pattern with OOP"
      ],
      "metadata": {
        "id": "y-JPVWN7svuX"
      }
    },
    {
      "cell_type": "code",
      "source": [
        "class Text:\n",
        "    def render(self):\n",
        "        return \"Hello\"\n",
        "\n",
        "class BoldDecorator:\n",
        "    def __init__(self, wrapped):\n",
        "        self.wrapped = wrapped\n",
        "\n",
        "    def render(self):\n",
        "        return f\"<b>{self.wrapped.render()}</b>\"\n",
        "\n",
        "# Usage\n",
        "plain = Text()\n",
        "bold = BoldDecorator(plain)\n",
        "print(bold.render())  # <b>Hello</b>"
      ],
      "metadata": {
        "colab": {
          "base_uri": "https://localhost:8080/"
        },
        "id": "laZUjC8BstUP",
        "outputId": "43d1e5bc-5e95-4385-bcf0-b511b0eddaad"
      },
      "execution_count": null,
      "outputs": [
        {
          "output_type": "stream",
          "name": "stdout",
          "text": [
            "<b>Hello</b>\n"
          ]
        }
      ]
    },
    {
      "cell_type": "code",
      "source": [
        "import pytest\n",
        "\n",
        "class Calculator:\n",
        "    def add(self, a, b):\n",
        "        return a + b\n",
        "\n",
        "class TestCalculator:\n",
        "    def test_add(self):\n",
        "        calc = Calculator()\n",
        "        assert calc.add(2, 3) == 5\n",
        "\n",
        "# Run in Colab with: !pytest this_file.py"
      ],
      "metadata": {
        "id": "fl6pB0hvvWbW"
      },
      "execution_count": null,
      "outputs": []
    },
    {
      "cell_type": "markdown",
      "source": [
        "### OOP with Pytest Fixtures"
      ],
      "metadata": {
        "id": "t69A7vHEs16d"
      }
    },
    {
      "cell_type": "code",
      "source": [
        "# test_logger.py\n",
        "class Logger:\n",
        "    def __init__(self):\n",
        "        self.logs = []\n",
        "\n",
        "    def log(self, msg):\n",
        "        self.logs.append(msg)\n",
        "\n",
        "    def get_logs(self):\n",
        "        return self.logs\n",
        "\n",
        "# test_logger usage in pytest\n",
        "\n",
        "def test_log():\n",
        "    logger = Logger()\n",
        "    logger.log(\"Error\")\n",
        "    assert logger.get_logs() == [\"Error\"]"
      ],
      "metadata": {
        "id": "smlmEI4tsy_b"
      },
      "execution_count": null,
      "outputs": []
    },
    {
      "cell_type": "code",
      "source": [],
      "metadata": {
        "id": "byN9HhdVs6af"
      },
      "execution_count": null,
      "outputs": []
    }
  ]
}